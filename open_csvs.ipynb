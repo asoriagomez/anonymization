{
 "cells": [
  {
   "cell_type": "code",
   "execution_count": null,
   "metadata": {},
   "outputs": [],
   "source": [
    "# Imports\n",
    "import matplotlib.pyplot as plt\n",
    "import numpy as np\n",
    "import pandas as pd\n",
    "import cv2\n",
    "from os.path import isfile, join\n",
    "\n",
    "from os import listdir\n",
    "from os.path import isfile, join\n",
    "\n",
    "import random\n",
    "import csv\n",
    "import ast\n"
   ]
  },
  {
   "cell_type": "code",
   "execution_count": null,
   "metadata": {},
   "outputs": [],
   "source": [
    "# Important paths\n",
    "\n",
    "hs = \"/home/asoria/Documents/proyecto_bretagne/port_kerity/\"\n",
    "\n",
    "folder_path = \"/home/asoria/Documents/proyecto_bretagne/port_kerity/original_images/\"\n",
    "store_summary_dict = r'/home/asoria/Documents/proyecto_bretagne/port_kerity/summary_project.csv'\n",
    "\n",
    "\n",
    "report_before_path = '/home/asoria/Documents/proyecto_bretagne/port_kerity/report_original.xml'\n",
    "report_after_path = '/home/asoria/Documents/proyecto_bretagne/port_kerity/report_blurred.xml'\n",
    "store_report_dict = r'/home/asoria/Documents/proyecto_bretagne/port_kerity/report_project.csv'"
   ]
  },
  {
   "cell_type": "code",
   "execution_count": null,
   "metadata": {},
   "outputs": [],
   "source": [
    "# Read csv into dictionary with adequate form\n",
    "# Normally shouldnt be necessary, as all the important parameters are returned by the method q_analyze_blur()\n",
    "\n",
    "\n",
    "def open_dictionaries(store_summary_dict, store_report_dict):\n",
    "    df_summary = pd.read_csv(store_summary_dict, index_col=0)\n",
    "\n",
    "    summary_dict = {}\n",
    "    summary_dict['folder_name'] = df_summary.folder_name.values[0]\n",
    "    summary_dict['n_imgs'] = df_summary.n_imgs.values[0]\n",
    "    summary_dict['before'] = {}\n",
    "    summary_dict['before']['inputs'] = ast.literal_eval(df_summary.before.values[0])\n",
    "\n",
    "    summary_dict['after'] = {}\n",
    "    summary_dict['after']['inputs'] = ast.literal_eval(df_summary.after.values[0])\n",
    "\n",
    "\n",
    "    # Open the report\n",
    "    df_report = pd.read_csv(store_report_dict,index_col=0)\n",
    "    report_dict = df_report.to_dict()\n",
    "    return summary_dict, report_dict\n",
    "\n",
    "#summary_dict, report_dict = open_dictionaries(store_summary_dict, store_report_dict)\n"
   ]
  }
 ],
 "metadata": {
  "language_info": {
   "name": "python"
  },
  "orig_nbformat": 4
 },
 "nbformat": 4,
 "nbformat_minor": 2
}
